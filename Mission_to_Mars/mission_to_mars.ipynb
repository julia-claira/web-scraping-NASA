{
 "cells": [
  {
   "cell_type": "code",
   "execution_count": 64,
   "metadata": {},
   "outputs": [],
   "source": [
    "import pandas as pd\n",
    "from bs4 import BeautifulSoup\n",
    "from splinter import Browser\n",
    "from webdriver_manager.chrome import ChromeDriverManager\n",
    "import pymongo\n",
    "from flask import Flask, jsonify\n",
    "import time"
   ]
  },
  {
   "cell_type": "code",
   "execution_count": 30,
   "metadata": {},
   "outputs": [
    {
     "name": "stderr",
     "output_type": "stream",
     "text": [
      "\n",
      "\n",
      "====== WebDriver manager ======\n",
      "Current google-chrome version is 91.0.4472\n",
      "Get LATEST driver version for 91.0.4472\n",
      "Driver [/Users/juliankauffmann/.wdm/drivers/chromedriver/mac64/91.0.4472.19/chromedriver] found in cache\n"
     ]
    }
   ],
   "source": [
    "#setup splinter\n",
    "executable_path= {'executable_path': ChromeDriverManager().install()}\n",
    "browser= Browser('chrome', **executable_path, headless=False)"
   ]
  },
  {
   "cell_type": "code",
   "execution_count": 3,
   "metadata": {},
   "outputs": [],
   "source": [
    "#function to have beautifulSoup parse url\n",
    "def parser (theurl):\n",
    "    \n",
    "    #pull up url\n",
    "    browser.visit(theurl)\n",
    "    html = browser.html\n",
    "    thesoup = BeautifulSoup(html, 'html.parser')\n",
    "\n",
    "    return thesoup"
   ]
  },
  {
   "cell_type": "code",
   "execution_count": 4,
   "metadata": {},
   "outputs": [
    {
     "data": {
      "text/plain": [
       "[\"NASA's New Mars Rover Is Ready for Space Lasers\",\n",
       " 'NASA Establishes Board to Initially Review Mars Sample Return Plans',\n",
       " 'Two Rovers to Roll on Mars Again: Curiosity and Mars 2020',\n",
       " 'Naming a NASA Mars Rover Can Change Your Life',\n",
       " \"NASA's Mars Perseverance Rover Gets Its Sample Handling System\",\n",
       " \"NASA's Mars Helicopter Attached to Mars 2020 Rover\",\n",
       " \"NASA's Perseverance Rover Will Carry First Spacesuit Materials to Mars\",\n",
       " \"Curiosity Mars Rover's Summer Road Trip Has Begun\",\n",
       " 'NASA to Hold Mars 2020 Perseverance Rover Launch Briefing',\n",
       " \"NASA's Mars 2020 Rover Completes Its First Drive\",\n",
       " \"How NASA's Perseverance Mars Team Adjusted to Work in the Time of Coronavirus\",\n",
       " \"NASA's Mars Perseverance Rover Passes Flight Readiness Review\",\n",
       " \"Meet the People Behind NASA's Perseverance Rover\",\n",
       " \"NASA's Perseverance Mars Rover Gets Its Wheels and Air Brakes\",\n",
       " \"Media Get a Close-Up of NASA's Mars 2020 Rover\"]"
      ]
     },
     "execution_count": 4,
     "metadata": {},
     "output_type": "execute_result"
    }
   ],
   "source": [
    "#1)Scrape the Mars News Site and collect the latest News Title and Paragraph Text\n",
    "url='https://redplanetscience.com/'\n",
    "soup=parser(url)\n",
    "\n",
    "#declare variables\n",
    "mars_titles=[]\n",
    "mars_paragraphs=[]\n",
    "\n",
    "#scrape titles\n",
    "results=soup.find_all('div', class_='content_title')\n",
    "\n",
    "#append titles to list\n",
    "for result in results:\n",
    "    mars_titles.append(result.text.strip())\n",
    "\n",
    "#print results to verify\n",
    "mars_titles"
   ]
  },
  {
   "cell_type": "code",
   "execution_count": 5,
   "metadata": {},
   "outputs": [],
   "source": [
    "#scrape paragraph\n",
    "results=soup.find_all('div', 'article_teaser_body')\n",
    "\n",
    "#append paragraphs to list\n",
    "for result in results:\n",
    "    mars_paragraphs.append(result.text.strip())\n",
    "    \n",
    "#print 1st paragraph to verify it worked\n",
    "print(mars_paragraphs[0])"
   ]
  },
  {
   "cell_type": "raw",
   "metadata": {},
   "source": [
    "2)Visit the url for the Featured Space Image site here.\n",
    "\n",
    "Use splinter to navigate the site and find the image url for the current Featured Mars Image and assign the url string to a variable called featured_image_url.\n",
    "\n",
    "Make sure to find the image url to the full size .jpg image.\n",
    "\n",
    "Make sure to save a complete url string for this image."
   ]
  },
  {
   "cell_type": "code",
   "execution_count": 9,
   "metadata": {},
   "outputs": [],
   "source": [
    "#2)Visit the url for the Featured Space Image site here.\n",
    "\n",
    "#parse feature image site\n",
    "url='https://spaceimages-mars.com/'\n",
    "soup=parser(url)"
   ]
  },
  {
   "cell_type": "code",
   "execution_count": 10,
   "metadata": {},
   "outputs": [],
   "source": [
    "#Use splinter to navigate the site and find the image url for the current Featured Mars Image\n",
    "browser.links.find_by_partial_text('FULL IMAGE').click()\n",
    "\n",
    "#store new html\n",
    "html = browser.html\n",
    "soup = BeautifulSoup(html, 'html.parser')\n",
    "\n",
    "#save feature image source\n",
    "result=soup.find('img', class_='fancybox-image')\n",
    "featured_image_url=url+result['src']\n",
    "\n",
    "print(featured_image_url)"
   ]
  },
  {
   "cell_type": "raw",
   "metadata": {},
   "source": [
    "3)Visit the Mars Facts webpage here and use Pandas to scrape the table containing facts about the planet including Diameter, Mass, etc.\n",
    "\n",
    "Use Pandas to convert the data to a HTML table string."
   ]
  },
  {
   "cell_type": "code",
   "execution_count": 20,
   "metadata": {},
   "outputs": [],
   "source": [
    "#Visit the Mars Facts webpage here and use Pandas to scrape the table\n",
    "\n",
    "url='https://galaxyfacts-mars.com/'\n",
    "tables=pd.read_html(url)"
   ]
  },
  {
   "cell_type": "code",
   "execution_count": 27,
   "metadata": {},
   "outputs": [],
   "source": [
    "#Use Pandas to convert the data to a HTML table string.\n",
    "the_table=tables[1].set_index(0)\n",
    "the_table_html=the_table.to_html()\n"
   ]
  },
  {
   "cell_type": "code",
   "execution_count": 81,
   "metadata": {},
   "outputs": [
    {
     "data": {
      "text/plain": [
       "[{'title': 'Cerberus Hemisphere Enhanced',\n",
       "  'img_url': 'https://marshemispheres.com/images/full.jpg'},\n",
       " {'title': 'Schiaparelli Hemisphere Enhanced',\n",
       "  'img_url': 'https://marshemispheres.com/images/schiaparelli_enhanced-full.jpg'},\n",
       " {'title': 'Syrtis Major Hemisphere Enhanced',\n",
       "  'img_url': 'https://marshemispheres.com/images/syrtis_major_enhanced-full.jpg'},\n",
       " {'title': 'Valles Marineris Hemisphere Enhanced',\n",
       "  'img_url': 'https://marshemispheres.com/images/valles_marineris_enhanced-full.jpg'}]"
      ]
     },
     "execution_count": 81,
     "metadata": {},
     "output_type": "execute_result"
    }
   ],
   "source": [
    "#function to pull the image url\n",
    "def imagePull(hemisphere):\n",
    "    \n",
    "    #click on link for hemisphere\n",
    "    browser.links.find_by_partial_text(hemisphere).click()\n",
    "    \n",
    "    #parse the new browser\n",
    "    html = browser.html\n",
    "    temp = BeautifulSoup(html, 'html.parser')\n",
    "    \n",
    "    #find the large image file\n",
    "    the_image=temp.find('a',text='Sample')\n",
    "    \n",
    "    #move back to original page\n",
    "    browser.links.find_by_partial_text('Back').click()\n",
    "\n",
    "    return the_image['href']\n",
    "\n",
    "#----------------------------------------------------\n",
    "#list to store dictionary of image url and title\n",
    "hemisphere_image_urls=[]\n",
    "\n",
    "#open the page\n",
    "url='https://marshemispheres.com/'\n",
    "soup=parser(url)\n",
    "\n",
    "#finds link names\n",
    "links=soup.find_all('h3')\n",
    "\n",
    "#loops through the first four links\n",
    "for link in links:\n",
    "    if link.text !='Back':\n",
    "        the_image_url=f'{url}{imagePull(link.text)}'\n",
    "        \n",
    "        #append the list with a dictionary\n",
    "        hemisphere_image_urls.append({\"title\": link.text, \"img_url\":the_image_url})\n",
    "\n",
    "hemisphere_image_urls"
   ]
  },
  {
   "cell_type": "code",
   "execution_count": null,
   "metadata": {},
   "outputs": [],
   "source": [
    "browser.quit()"
   ]
  }
 ],
 "metadata": {
  "kernelspec": {
   "display_name": "Python [conda env:PythonData] *",
   "language": "python",
   "name": "conda-env-PythonData-py"
  },
  "language_info": {
   "codemirror_mode": {
    "name": "ipython",
    "version": 3
   },
   "file_extension": ".py",
   "mimetype": "text/x-python",
   "name": "python",
   "nbconvert_exporter": "python",
   "pygments_lexer": "ipython3",
   "version": "3.6.10"
  }
 },
 "nbformat": 4,
 "nbformat_minor": 4
}
